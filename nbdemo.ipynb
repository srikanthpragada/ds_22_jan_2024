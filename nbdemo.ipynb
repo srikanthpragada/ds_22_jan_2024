{
 "cells": [
  {
   "cell_type": "code",
   "execution_count": 21,
   "id": "c521ceee-3e0a-4ffd-8d60-64b370d4ccc3",
   "metadata": {
    "tags": []
   },
   "outputs": [
    {
     "name": "stdout",
     "output_type": "stream",
     "text": [
      "Hello!\n"
     ]
    }
   ],
   "source": [
    "print('Hello!')"
   ]
  },
  {
   "cell_type": "code",
   "execution_count": 24,
   "id": "40c4f97a-fbb2-4d02-8166-0e4f63de8a9c",
   "metadata": {
    "tags": []
   },
   "outputs": [],
   "source": [
    "from datetime import *"
   ]
  },
  {
   "cell_type": "raw",
   "id": "6b070f90-fb4b-40ba-bdfa-b5fd3ffa0dde",
   "metadata": {},
   "source": [
    "This is raw cell!"
   ]
  },
  {
   "cell_type": "code",
   "execution_count": 25,
   "id": "e60bc17a-4c30-416c-8eb1-c01adba118a5",
   "metadata": {
    "tags": []
   },
   "outputs": [
    {
     "name": "stdout",
     "output_type": "stream",
     "text": [
      "2024-01-24 20:28:44.612538\n"
     ]
    }
   ],
   "source": [
    "print(datetime.now())"
   ]
  },
  {
   "cell_type": "markdown",
   "id": "4c3fd0c3-3bce-4f0c-b7e6-fcb90964bbc8",
   "metadata": {},
   "source": [
    "<h1>This is Markdown</h1>"
   ]
  },
  {
   "cell_type": "code",
   "execution_count": 20,
   "id": "c0c1eb05-2192-4d17-b097-138348b57b52",
   "metadata": {
    "tags": []
   },
   "outputs": [
    {
     "name": "stdout",
     "output_type": "stream",
     "text": [
      "2024-01-24 20:28:04.584546\n"
     ]
    }
   ],
   "source": [
    "print(datetime.today())"
   ]
  },
  {
   "cell_type": "markdown",
   "id": "0c76acb4-2d04-4287-b44d-b5bec508ce1e",
   "metadata": {},
   "source": [
    "# Heading 1"
   ]
  },
  {
   "cell_type": "code",
   "execution_count": 29,
   "id": "40a03147-c6ff-44a4-b5a6-98ce059462f0",
   "metadata": {
    "tags": []
   },
   "outputs": [
    {
     "data": {
      "text/plain": [
       "\u001b[1;31mSignature:\u001b[0m \u001b[0mdatetime\u001b[0m\u001b[1;33m.\u001b[0m\u001b[0mnow\u001b[0m\u001b[1;33m(\u001b[0m\u001b[0mtz\u001b[0m\u001b[1;33m=\u001b[0m\u001b[1;32mNone\u001b[0m\u001b[1;33m)\u001b[0m\u001b[1;33m\u001b[0m\u001b[1;33m\u001b[0m\u001b[0m\n",
       "\u001b[1;31mDocstring:\u001b[0m\n",
       "Returns new datetime object representing current time local to tz.\n",
       "\n",
       "  tz\n",
       "    Timezone object.\n",
       "\n",
       "If no tz is specified, uses local timezone.\n",
       "\u001b[1;31mType:\u001b[0m      builtin_function_or_method"
      ]
     },
     "metadata": {},
     "output_type": "display_data"
    }
   ],
   "source": [
    "datetime.now?"
   ]
  },
  {
   "cell_type": "markdown",
   "id": "992e1090-a463-4fea-bed2-bd76546c82df",
   "metadata": {},
   "source": [
    "**bold text**\n",
    "***\n",
    "*italic*"
   ]
  },
  {
   "cell_type": "markdown",
   "id": "a9471064-8ce1-4237-851c-e4fb5d8c6d39",
   "metadata": {},
   "source": [
    "-  Numpy\n",
    "-  Pandas\n",
    "    - DataFrame\n",
    "    * Series"
   ]
  },
  {
   "cell_type": "markdown",
   "id": "5b1f7aaf-b85d-42a6-9256-bef2b937d108",
   "metadata": {},
   "source": [
    "1. Decision Tree\n",
    "1. Random Forest\n",
    "1. Logistic Regression"
   ]
  },
  {
   "cell_type": "markdown",
   "id": "bb9ae33b-3de5-4e90-80b5-a57e7e7e0da4",
   "metadata": {},
   "source": [
    "`This is fine`"
   ]
  },
  {
   "cell_type": "markdown",
   "id": "0a9c27c4-707e-4aa0-b8b5-71e23ff658c9",
   "metadata": {},
   "source": [
    "<div class=\"alert alert-block alert-danger\">\n",
    "    This is a dangerous block\n",
    "</div>"
   ]
  },
  {
   "cell_type": "markdown",
   "id": "eb18842e-7abb-4937-8ab0-c60d34f8317c",
   "metadata": {},
   "source": [
    "<div class=\"alert alert-block alert-success\">\n",
    "    This is a Successful block\n",
    "</div>"
   ]
  },
  {
   "cell_type": "markdown",
   "id": "2cfda924-0f31-4762-ba08-c2a0bd96f789",
   "metadata": {},
   "source": [
    "### Line Magic Functions"
   ]
  },
  {
   "cell_type": "code",
   "execution_count": 30,
   "id": "19aa2e86-4964-4041-af02-71d3079265a2",
   "metadata": {
    "tags": []
   },
   "outputs": [
    {
     "data": {
      "text/plain": [
       "'D:\\\\classroom\\\\jan22'"
      ]
     },
     "execution_count": 30,
     "metadata": {},
     "output_type": "execute_result"
    }
   ],
   "source": [
    "%pwd"
   ]
  },
  {
   "cell_type": "code",
   "execution_count": 31,
   "id": "464a06bc-5d2b-4404-b105-0f1f0424f5e5",
   "metadata": {
    "collapsed": true,
    "jupyter": {
     "outputs_hidden": true
    },
    "tags": []
   },
   "outputs": [
    {
     "data": {
      "text/plain": [
       "[' Volume in drive D is Software',\n",
       " ' Volume Serial Number is FCE9-76E2',\n",
       " '',\n",
       " ' Directory of D:\\\\classroom\\\\jan22',\n",
       " '',\n",
       " '24-01-2024  20:49    <DIR>          .',\n",
       " '24-01-2024  20:49    <DIR>          ..',\n",
       " '20-05-2021  16:46             1,972 .gitignore',\n",
       " '24-01-2024  20:00    <DIR>          .ipynb_checkpoints',\n",
       " '21-07-2022  20:49            25,475 demo.ipynb',\n",
       " '24-01-2024  20:02            25,475 demo_notebook.ipynb',\n",
       " '05-05-2021  19:57                13 j.bat',\n",
       " '24-01-2024  20:49             4,400 nbdemo.ipynb',\n",
       " '23-01-2024  16:45               171 upload.bat',\n",
       " '               6 File(s)         57,506 bytes',\n",
       " '               3 Dir(s)  120,686,211,072 bytes free']"
      ]
     },
     "execution_count": 31,
     "metadata": {},
     "output_type": "execute_result"
    }
   ],
   "source": [
    "%system dir"
   ]
  },
  {
   "cell_type": "code",
   "execution_count": 32,
   "id": "1b0d1220-d473-4926-9615-f0c78b3e4067",
   "metadata": {
    "collapsed": true,
    "jupyter": {
     "outputs_hidden": true
    },
    "tags": []
   },
   "outputs": [
    {
     "name": "stdout",
     "output_type": "stream",
     "text": [
      "1\n",
      "2\n",
      "3\n",
      "4\n",
      "5\n",
      "6\n",
      "7\n",
      "8\n",
      "9\n",
      "10\n"
     ]
    }
   ],
   "source": [
    "for i in range(1,11):\n",
    "      print(i)"
   ]
  },
  {
   "cell_type": "code",
   "execution_count": 33,
   "id": "684f76d3-05aa-43a7-af51-6de2cbcea09a",
   "metadata": {
    "collapsed": true,
    "jupyter": {
     "outputs_hidden": true
    },
    "tags": []
   },
   "outputs": [
    {
     "name": "stdout",
     "output_type": "stream",
     "text": [
      "from datetime import *\n",
      "print(datetime.now())\n",
      "print(datetime.now())\n",
      "print(datetime.now())\n",
      "print(datetime.now())\n",
      "print(datetime.today())\n",
      "print(datetime.now())\n",
      "print(datetime.today())\n",
      "print(datetime.now())\n",
      "print(datetime.now())\n",
      "print(datetime.now())\n",
      "print(datetime.now())\n",
      "print(datetime.now())\n",
      "print(datetime.now())\n",
      "print(datetime.now())\n",
      "print(datetime.now())\n",
      "print('Hello!')\n",
      "from datetime import *\n",
      "print(datetime.now())\n",
      "print(datetime.today())\n",
      "print('Hello!')\n",
      "from datetime import *\n",
      "print(datetime.now())\n",
      "from datetime import *\n",
      "print(datetime.now())\n",
      "datetime.ctime?\n",
      "datetime.ctime\n",
      "datetime.ctime()\n",
      "datetime.now?\n",
      "%pwd\n",
      "%system dir\n",
      "for i in range(1,11):\n",
      "      print(i)\n",
      "%history\n"
     ]
    }
   ],
   "source": [
    "%history"
   ]
  },
  {
   "cell_type": "code",
   "execution_count": 34,
   "id": "4e733231-f6e2-468b-9c0f-cf6b1db85cf8",
   "metadata": {
    "jupyter": {
     "source_hidden": true
    },
    "tags": []
   },
   "outputs": [
    {
     "name": "stdout",
     "output_type": "stream",
     "text": [
      "Writing names.txt\n"
     ]
    }
   ],
   "source": [
    "%%writefile names.txt\n",
    "Numpy\n",
    "Pandas\n",
    "Seaborn\n",
    "Scikitlearn"
   ]
  },
  {
   "cell_type": "code",
   "execution_count": 36,
   "id": "9fd9250c-1b78-47f6-a296-b96a8d516e86",
   "metadata": {
    "tags": []
   },
   "outputs": [],
   "source": [
    "from IPython.display import Image"
   ]
  },
  {
   "cell_type": "code",
   "execution_count": 39,
   "id": "bba703a1-0b82-400b-87ea-7e1845624f97",
   "metadata": {
    "tags": []
   },
   "outputs": [
    {
     "data": {
      "text/html": [
       "<img src=\"http://www.srikanthtechnologies.com/banner.jpg\"/>"
      ],
      "text/plain": [
       "<IPython.core.display.Image object>"
      ]
     },
     "execution_count": 39,
     "metadata": {},
     "output_type": "execute_result"
    }
   ],
   "source": [
    "Image(url=\"http://www.srikanthtechnologies.com/banner.jpg\")"
   ]
  },
  {
   "cell_type": "code",
   "execution_count": 42,
   "id": "a5e55384-1d09-46ce-ad4d-1d0ef617f726",
   "metadata": {
    "tags": []
   },
   "outputs": [],
   "source": [
    "!type names.txt"
   ]
  },
  {
   "cell_type": "code",
   "execution_count": 43,
   "id": "ab468442-5541-4a4f-b851-4542eade365e",
   "metadata": {
    "tags": []
   },
   "outputs": [
    {
     "data": {
      "text/plain": [
       "['Numpy', 'Pandas', 'Seaborn', 'Scikitlearn']"
      ]
     },
     "execution_count": 43,
     "metadata": {},
     "output_type": "execute_result"
    }
   ],
   "source": [
    "names"
   ]
  },
  {
   "cell_type": "code",
   "execution_count": 44,
   "id": "57ebf29e-2a6f-4d77-a101-a772d396d60f",
   "metadata": {
    "tags": []
   },
   "outputs": [
    {
     "name": "stdout",
     "output_type": "stream",
     "text": [
      " Volume in drive D is Software\n",
      " Volume Serial Number is FCE9-76E2\n",
      "\n",
      " Directory of D:\\classroom\\jan22\n",
      "\n",
      "25-01-2024  20:04                37 names.txt\n",
      "               1 File(s)             37 bytes\n",
      "               0 Dir(s)  120,686,018,560 bytes free\n"
     ]
    }
   ],
   "source": [
    "files = \"*.txt\"\n",
    "!dir {files}"
   ]
  },
  {
   "cell_type": "code",
   "execution_count": null,
   "id": "b38c8ba0-3b5b-4d50-ae20-68c6782f25fd",
   "metadata": {},
   "outputs": [],
   "source": []
  }
 ],
 "metadata": {
  "kernelspec": {
   "display_name": "Python 3 (ipykernel)",
   "language": "python",
   "name": "python3"
  },
  "language_info": {
   "codemirror_mode": {
    "name": "ipython",
    "version": 3
   },
   "file_extension": ".py",
   "mimetype": "text/x-python",
   "name": "python",
   "nbconvert_exporter": "python",
   "pygments_lexer": "ipython3",
   "version": "3.11.5"
  }
 },
 "nbformat": 4,
 "nbformat_minor": 5
}
