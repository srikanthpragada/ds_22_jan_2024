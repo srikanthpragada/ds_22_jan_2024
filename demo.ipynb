{
 "cells": [
  {
   "cell_type": "markdown",
   "id": "a1c39c1a",
   "metadata": {},
   "source": [
    "<h2>Demo Notebook</h2>"
   ]
  },
  {
   "cell_type": "code",
   "execution_count": 1,
   "id": "faa4e05d",
   "metadata": {
    "collapsed": true,
    "jupyter": {
     "outputs_hidden": true
    },
    "tags": []
   },
   "outputs": [
    {
     "name": "stdout",
     "output_type": "stream",
     "text": [
      "2021-07-02 20:07:26.874010\n"
     ]
    }
   ],
   "source": [
    "import datetime\n",
    "print(datetime.datetime.now())"
   ]
  },
  {
   "cell_type": "code",
   "execution_count": 2,
   "id": "f6136cfb",
   "metadata": {
    "collapsed": true,
    "jupyter": {
     "outputs_hidden": true
    }
   },
   "outputs": [
    {
     "name": "stdout",
     "output_type": "stream",
     "text": [
      "Hello!\n"
     ]
    }
   ],
   "source": [
    "print(\"Hello!\")"
   ]
  },
  {
   "cell_type": "raw",
   "id": "267706db-1af2-469b-8dd2-5505f665876e",
   "metadata": {},
   "source": [
    "This is an example for RAW cell"
   ]
  },
  {
   "cell_type": "markdown",
   "id": "64fd0fff-4585-44c3-b696-5371c19a1666",
   "metadata": {},
   "source": [
    "<h1>Markdown Demo </h1>"
   ]
  },
  {
   "cell_type": "markdown",
   "id": "619dca2f-a12c-465a-b8d9-8b1c688692a7",
   "metadata": {
    "tags": []
   },
   "source": [
    "<h4>This is heading 4 </h4>"
   ]
  },
  {
   "cell_type": "markdown",
   "id": "07bfa357-193d-4b4e-b4c0-ced9ab6a870a",
   "metadata": {},
   "source": [
    "##### Markdown Demo - heading 5"
   ]
  },
  {
   "cell_type": "markdown",
   "id": "1a5d5891-cc11-4bc7-b3c4-b11e0dc428c5",
   "metadata": {},
   "source": [
    "__this is blod__\n",
    "<br/>\n",
    "_this is italic_\n",
    "<br/>\n",
    "`This is monospaced`"
   ]
  },
  {
   "cell_type": "markdown",
   "id": "5c7488f2-3dce-46b2-ba94-b1bb653d84ba",
   "metadata": {},
   "source": [
    "<h3>Topics </h3>\n",
    "<ul>\n",
    "    <li>Numpy</li>\n",
    "    <li>Pandas </li>\n",
    "</ul>"
   ]
  },
  {
   "cell_type": "markdown",
   "id": "c98fe578-a5f8-4afc-831c-7d151557a903",
   "metadata": {},
   "source": [
    "- Numpy\n",
    "* Pandas\n",
    "- Plots\n",
    "    * Matplotlib\n",
    "    * Seaborn"
   ]
  },
  {
   "cell_type": "markdown",
   "id": "2e132c99-dd13-4b97-8042-1296f28fe4e6",
   "metadata": {},
   "source": [
    "1. Classification\n",
    "1. Regression\n",
    "1. Clustering"
   ]
  },
  {
   "cell_type": "markdown",
   "id": "6431d33f-3867-403d-ad5b-434b7ea5073e",
   "metadata": {},
   "source": [
    "<div class=\"alert alert-block alert-info\">\n",
    "This is all about Machine Learning.\n",
    "</div>"
   ]
  },
  {
   "cell_type": "markdown",
   "id": "66f14989-1d01-4531-b14d-dcf3efd2da4c",
   "metadata": {},
   "source": [
    "<div class=\"alert alert-block alert-danger\">\n",
    "Machine Learning is no cake walk!\n",
    "</div>"
   ]
  },
  {
   "cell_type": "markdown",
   "id": "32407a26-83b0-4f7a-803a-4a741457faf7",
   "metadata": {},
   "source": [
    "---"
   ]
  },
  {
   "cell_type": "markdown",
   "id": "9be96a23-c114-442e-9552-56be7e7df510",
   "metadata": {},
   "source": [
    "__[Srikanth Technologies](http://www.srikanthtechnologies.com)__"
   ]
  },
  {
   "cell_type": "markdown",
   "id": "13600b2c-49e7-4580-a733-23283a953eff",
   "metadata": {},
   "source": [
    "<img src=\"http://www.srikanthtechnologies.com/banner.jpg\" />"
   ]
  },
  {
   "cell_type": "code",
   "execution_count": 1,
   "id": "ba14747d-e505-4854-a34f-4fa9156ce0df",
   "metadata": {
    "tags": []
   },
   "outputs": [],
   "source": [
    "from IPython.display import Image"
   ]
  },
  {
   "cell_type": "code",
   "execution_count": 3,
   "id": "ce94f06a-929d-4dce-92d5-0f93cf27f6c9",
   "metadata": {
    "tags": []
   },
   "outputs": [
    {
     "data": {
      "text/html": [
       "<img src=\"http://www.srikanthtechnologies.com/banner.jpg\"/>"
      ],
      "text/plain": [
       "<IPython.core.display.Image object>"
      ]
     },
     "execution_count": 3,
     "metadata": {},
     "output_type": "execute_result"
    }
   ],
   "source": [
    "Image(url =\"http://www.srikanthtechnologies.com/banner.jpg\")"
   ]
  },
  {
   "cell_type": "markdown",
   "id": "829d69c0-ad6c-4bd5-accd-e6f776a598ac",
   "metadata": {},
   "source": [
    "## Shell Commands Demo"
   ]
  },
  {
   "cell_type": "code",
   "execution_count": 2,
   "id": "12115d3f-f12a-417d-8eda-71ac995fe148",
   "metadata": {
    "tags": []
   },
   "outputs": [
    {
     "name": "stdout",
     "output_type": "stream",
     "text": [
      "D:\\classroom\\jul18d\n"
     ]
    }
   ],
   "source": [
    "!cd"
   ]
  },
  {
   "cell_type": "code",
   "execution_count": 5,
   "id": "0834b0eb-5a5e-489a-9943-7f3783c02ad2",
   "metadata": {
    "collapsed": true,
    "jupyter": {
     "outputs_hidden": true
    },
    "tags": []
   },
   "outputs": [
    {
     "name": "stdout",
     "output_type": "stream",
     "text": [
      " Volume in drive D is Software\n",
      " Volume Serial Number is FCE9-76E2\n",
      "\n",
      " Directory of D:\\classroom\\jul18d\n",
      "\n",
      "21-07-2022  20:16    <DIR>          .\n",
      "21-07-2022  20:16    <DIR>          ..\n",
      "20-05-2021  16:46             1,972 .gitignore\n",
      "21-07-2022  19:59    <DIR>          .ipynb_checkpoints\n",
      "21-07-2022  20:16            26,831 demo_notebook.ipynb\n",
      "05-05-2021  19:57                13 j.bat\n",
      "20-07-2022  16:53                62 README.md\n",
      "20-07-2022  16:55               171 upload.bat\n",
      "               5 File(s)         29,049 bytes\n",
      "               3 Dir(s)  123,382,837,248 bytes free\n"
     ]
    }
   ],
   "source": [
    "!dir"
   ]
  },
  {
   "cell_type": "code",
   "execution_count": 6,
   "id": "79fc3b35-8973-4865-9f50-cdcc92471daa",
   "metadata": {
    "tags": []
   },
   "outputs": [
    {
     "name": "stdout",
     "output_type": "stream",
     "text": [
      "Numpy\n",
      "Pandas\n",
      "SkLearn\n",
      "MatplotLib\n",
      "Seaborn\n"
     ]
    }
   ],
   "source": [
    "!type libraries.txt"
   ]
  },
  {
   "cell_type": "code",
   "execution_count": 7,
   "id": "eb18ee1c-56be-40fb-bf88-8205ee95c8be",
   "metadata": {
    "tags": []
   },
   "outputs": [],
   "source": [
    "libs = !type libraries.txt"
   ]
  },
  {
   "cell_type": "code",
   "execution_count": 8,
   "id": "8383516d-ef07-411a-84bd-b82e68548a10",
   "metadata": {
    "tags": []
   },
   "outputs": [
    {
     "data": {
      "text/plain": [
       "['Numpy', 'Pandas', 'SkLearn', 'MatplotLib', 'Seaborn']"
      ]
     },
     "execution_count": 8,
     "metadata": {},
     "output_type": "execute_result"
    }
   ],
   "source": [
    "libs"
   ]
  },
  {
   "cell_type": "code",
   "execution_count": 10,
   "id": "8b003b58-2a24-42a8-99fd-df2c3fb9b091",
   "metadata": {
    "tags": []
   },
   "outputs": [
    {
     "name": "stdout",
     "output_type": "stream",
     "text": [
      "libraries.txt\n",
      "----------\n",
      "Numpy\n",
      "Pandas\n",
      "SkLearn\n",
      "MatplotLib\n",
      "Seaborn\n",
      "\n",
      "upload.bat\n",
      "----------\n",
      "rem add all files\n",
      "git add .\n",
      "\n",
      "rem commit with the given message \n",
      "git commit -m %1\n",
      "\n",
      "rem push master branch of this remote project\n",
      "git push ds_18_jul_2022 master\n",
      "\n",
      "\n",
      "\n"
     ]
    }
   ],
   "source": [
    "files = ['libraries.txt', 'upload.bat']\n",
    "for f in files:\n",
    "    print(f)\n",
    "    print(\"-\" * 10)\n",
    "    !type {f}\n",
    "    print()"
   ]
  },
  {
   "cell_type": "markdown",
   "id": "63398614-87c7-48ff-b7af-dabf7bfd4372",
   "metadata": {},
   "source": [
    "### Line Magic Functions"
   ]
  },
  {
   "cell_type": "code",
   "execution_count": 11,
   "id": "63c596a9-3ede-4002-a37a-f299916c30e9",
   "metadata": {
    "tags": []
   },
   "outputs": [
    {
     "data": {
      "text/plain": [
       "'D:\\\\classroom\\\\jul18d'"
      ]
     },
     "execution_count": 11,
     "metadata": {},
     "output_type": "execute_result"
    }
   ],
   "source": [
    "%pwd"
   ]
  },
  {
   "cell_type": "code",
   "execution_count": 12,
   "id": "648c2a01-4259-455b-9ce2-8aee76bdf68b",
   "metadata": {
    "tags": []
   },
   "outputs": [
    {
     "name": "stdout",
     "output_type": "stream",
     "text": [
      "Image\t f\t files\t libs\t \n"
     ]
    }
   ],
   "source": [
    "%who"
   ]
  },
  {
   "cell_type": "code",
   "execution_count": 13,
   "id": "0a531781-41c5-4074-a66b-7f4ccf9fccd1",
   "metadata": {
    "tags": []
   },
   "outputs": [
    {
     "data": {
      "text/plain": [
       "{'ALLUSERSPROFILE': 'C:\\\\ProgramData',\n",
       " 'APPDATA': 'C:\\\\Users\\\\srika\\\\AppData\\\\Roaming',\n",
       " 'COMMONPROGRAMFILES': 'C:\\\\Program Files\\\\Common Files',\n",
       " 'COMMONPROGRAMFILES(X86)': 'C:\\\\Program Files (x86)\\\\Common Files',\n",
       " 'COMMONPROGRAMW6432': 'C:\\\\Program Files\\\\Common Files',\n",
       " 'COMPUTERNAME': 'CLASSROOM',\n",
       " 'COMSPEC': 'C:\\\\Windows\\\\system32\\\\cmd.exe',\n",
       " 'CONDA_DEFAULT_ENV': 'base',\n",
       " 'CONDA_EXE': 'D:\\\\anaconda\\\\Scripts\\\\conda.exe',\n",
       " 'CONDA_PREFIX': 'D:\\\\anaconda',\n",
       " 'CONDA_PROMPT_MODIFIER': '(base) ',\n",
       " 'CONDA_PYTHON_EXE': 'D:\\\\anaconda\\\\python.exe',\n",
       " 'CONDA_SHLVL': '1',\n",
       " 'HOMEDRIVE': 'C:',\n",
       " 'HOMEPATH': '\\\\Users\\\\srika',\n",
       " 'LOCALAPPDATA': 'C:\\\\Users\\\\srika\\\\AppData\\\\Local',\n",
       " 'LOGONSERVER': '\\\\\\\\CLASSROOM',\n",
       " 'NUMBER_OF_PROCESSORS': '4',\n",
       " 'ONEDRIVE': 'C:\\\\Users\\\\srika\\\\OneDrive',\n",
       " 'ONEDRIVECONSUMER': 'C:\\\\Users\\\\srika\\\\OneDrive',\n",
       " 'OS': 'Windows_NT',\n",
       " 'PATH': 'D:\\\\anaconda;D:\\\\anaconda\\\\Library\\\\mingw-w64\\\\bin;D:\\\\anaconda\\\\Library\\\\usr\\\\bin;D:\\\\anaconda\\\\Library\\\\bin;D:\\\\anaconda\\\\Scripts;D:\\\\anaconda\\\\bin;D:\\\\anaconda\\\\condabin;C:\\\\Program Files\\\\Common Files\\\\Oracle\\\\Java\\\\javapath;D:\\\\Python310\\\\Scripts;D:\\\\Python310;C:\\\\Windows\\\\system32;C:\\\\Windows;C:\\\\Windows\\\\System32\\\\Wbem;C:\\\\Windows\\\\System32\\\\WindowsPowerShell\\\\v1.0;C:\\\\Program Files\\\\dotnet;C:\\\\Program Files\\\\Microsoft SQL Server\\\\130\\\\Tools\\\\Binn;C:\\\\Program Files\\\\Microsoft SQL Server\\\\Client SDK\\\\ODBC\\\\170\\\\Tools\\\\Binn;C:\\\\Program Files\\\\Git\\\\cmd;C:\\\\Program Files\\\\Amazon\\\\AWSCLIV2;C:\\\\Program Files\\\\nodejs;C:\\\\python\\\\Scripts;C:\\\\python;D:\\\\python310\\\\Scripts;D:\\\\python310;D:\\\\python;D:\\\\python\\\\Scripts;C:\\\\Users\\\\srika\\\\AppData\\\\Local\\\\Microsoft\\\\WindowsApps;C:\\\\Users\\\\srika\\\\AppData\\\\Local\\\\Programs\\\\Microsoft VS Code\\\\bin;C:\\\\Users\\\\srika\\\\.dotnet\\\\tools;C:\\\\Users\\\\srika\\\\AppData\\\\Roaming\\\\npm',\n",
       " 'PATHEXT': '.COM;.EXE;.BAT;.CMD;.VBS;.VBE;.JS;.JSE;.WSF;.WSH;.MSC',\n",
       " 'PROCESSOR_ARCHITECTURE': 'AMD64',\n",
       " 'PROCESSOR_IDENTIFIER': 'Intel64 Family 6 Model 58 Stepping 9, GenuineIntel',\n",
       " 'PROCESSOR_LEVEL': '6',\n",
       " 'PROCESSOR_REVISION': '3a09',\n",
       " 'PROGRAMDATA': 'C:\\\\ProgramData',\n",
       " 'PROGRAMFILES': 'C:\\\\Program Files',\n",
       " 'PROGRAMFILES(X86)': 'C:\\\\Program Files (x86)',\n",
       " 'PROGRAMW6432': 'C:\\\\Program Files',\n",
       " 'PROMPT': '(base) $P$G',\n",
       " 'PSMODULEPATH': 'C:\\\\Program Files\\\\WindowsPowerShell\\\\Modules;C:\\\\Windows\\\\system32\\\\WindowsPowerShell\\\\v1.0\\\\Modules',\n",
       " 'PUBLIC': 'C:\\\\Users\\\\Public',\n",
       " 'SESSIONNAME': 'Console',\n",
       " 'SYSTEMDRIVE': 'C:',\n",
       " 'SYSTEMROOT': 'C:\\\\Windows',\n",
       " 'TEMP': 'C:\\\\Users\\\\srika\\\\AppData\\\\Local\\\\Temp',\n",
       " 'TMP': 'C:\\\\Users\\\\srika\\\\AppData\\\\Local\\\\Temp',\n",
       " 'USERDOMAIN': 'CLASSROOM',\n",
       " 'USERDOMAIN_ROAMINGPROFILE': 'CLASSROOM',\n",
       " 'USERNAME': 'srika',\n",
       " 'USERPROFILE': 'C:\\\\Users\\\\srika',\n",
       " 'WINDIR': 'C:\\\\Windows',\n",
       " 'PYDEVD_USE_FRAME_EVAL': 'NO',\n",
       " 'JPY_INTERRUPT_EVENT': '4076',\n",
       " 'IPY_INTERRUPT_EVENT': '4076',\n",
       " 'JPY_PARENT_PID': '4352',\n",
       " 'TERM': 'xterm-color',\n",
       " 'CLICOLOR': '1',\n",
       " 'PAGER': 'cat',\n",
       " 'GIT_PAGER': 'cat',\n",
       " 'MPLBACKEND': 'module://matplotlib_inline.backend_inline'}"
      ]
     },
     "execution_count": 13,
     "metadata": {},
     "output_type": "execute_result"
    }
   ],
   "source": [
    "%env"
   ]
  },
  {
   "cell_type": "code",
   "execution_count": 15,
   "id": "5086d05a-4874-4857-8a40-28f75b14b556",
   "metadata": {},
   "outputs": [
    {
     "name": "stdout",
     "output_type": "stream",
     "text": [
      "<class 'dict'>\n"
     ]
    },
    {
     "data": {
      "text/plain": [
       "'srika'"
      ]
     },
     "execution_count": 15,
     "metadata": {},
     "output_type": "execute_result"
    }
   ],
   "source": [
    "variables = %env\n",
    "print(type(variables))\n",
    "variables['USERNAME']"
   ]
  },
  {
   "cell_type": "code",
   "execution_count": 16,
   "id": "eda5a320-a6f4-4d32-b8e3-211cebdaf945",
   "metadata": {
    "collapsed": true,
    "jupyter": {
     "outputs_hidden": true
    },
    "tags": []
   },
   "outputs": [
    {
     "data": {
      "text/plain": [
       "[' Volume in drive D is Software',\n",
       " ' Volume Serial Number is FCE9-76E2',\n",
       " '',\n",
       " ' Directory of D:\\\\classroom\\\\jul18d',\n",
       " '',\n",
       " '',\n",
       " ' Directory of D:\\\\classroom\\\\jul18d',\n",
       " '',\n",
       " '',\n",
       " ' Directory of D:\\\\classroom\\\\jul18d',\n",
       " '',\n",
       " '',\n",
       " ' Directory of D:\\\\classroom\\\\jul18d',\n",
       " '',\n",
       " 'File Not Found']"
      ]
     },
     "execution_count": 16,
     "metadata": {},
     "output_type": "execute_result"
    }
   ],
   "source": [
    "%system dir    # Execute OS command  "
   ]
  },
  {
   "cell_type": "code",
   "execution_count": 17,
   "id": "ad2b6d37-9a43-44f2-ad9f-d9620c22a6f9",
   "metadata": {
    "tags": []
   },
   "outputs": [
    {
     "data": {
      "application/json": {
       "cell": {
        "!": "OSMagics",
        "HTML": "Other",
        "SVG": "Other",
        "bash": "Other",
        "capture": "ExecutionMagics",
        "cmd": "Other",
        "debug": "ExecutionMagics",
        "file": "Other",
        "html": "DisplayMagics",
        "javascript": "DisplayMagics",
        "js": "DisplayMagics",
        "latex": "DisplayMagics",
        "markdown": "DisplayMagics",
        "perl": "Other",
        "prun": "ExecutionMagics",
        "pypy": "Other",
        "python": "Other",
        "python2": "Other",
        "python3": "Other",
        "ruby": "Other",
        "script": "ScriptMagics",
        "sh": "Other",
        "svg": "DisplayMagics",
        "sx": "OSMagics",
        "system": "OSMagics",
        "time": "ExecutionMagics",
        "timeit": "ExecutionMagics",
        "writefile": "OSMagics"
       },
       "line": {
        "alias": "OSMagics",
        "alias_magic": "BasicMagics",
        "autoawait": "AsyncMagics",
        "autocall": "AutoMagics",
        "automagic": "AutoMagics",
        "autosave": "KernelMagics",
        "bookmark": "OSMagics",
        "cd": "OSMagics",
        "clear": "KernelMagics",
        "cls": "KernelMagics",
        "colors": "BasicMagics",
        "conda": "PackagingMagics",
        "config": "ConfigMagics",
        "connect_info": "KernelMagics",
        "copy": "Other",
        "ddir": "Other",
        "debug": "ExecutionMagics",
        "dhist": "OSMagics",
        "dirs": "OSMagics",
        "doctest_mode": "BasicMagics",
        "echo": "Other",
        "ed": "Other",
        "edit": "KernelMagics",
        "env": "OSMagics",
        "gui": "BasicMagics",
        "hist": "Other",
        "history": "HistoryMagics",
        "killbgscripts": "ScriptMagics",
        "ldir": "Other",
        "less": "KernelMagics",
        "load": "CodeMagics",
        "load_ext": "ExtensionMagics",
        "loadpy": "CodeMagics",
        "logoff": "LoggingMagics",
        "logon": "LoggingMagics",
        "logstart": "LoggingMagics",
        "logstate": "LoggingMagics",
        "logstop": "LoggingMagics",
        "ls": "Other",
        "lsmagic": "BasicMagics",
        "macro": "ExecutionMagics",
        "magic": "BasicMagics",
        "matplotlib": "PylabMagics",
        "mkdir": "Other",
        "more": "KernelMagics",
        "notebook": "BasicMagics",
        "page": "BasicMagics",
        "pastebin": "CodeMagics",
        "pdb": "ExecutionMagics",
        "pdef": "NamespaceMagics",
        "pdoc": "NamespaceMagics",
        "pfile": "NamespaceMagics",
        "pinfo": "NamespaceMagics",
        "pinfo2": "NamespaceMagics",
        "pip": "PackagingMagics",
        "popd": "OSMagics",
        "pprint": "BasicMagics",
        "precision": "BasicMagics",
        "prun": "ExecutionMagics",
        "psearch": "NamespaceMagics",
        "psource": "NamespaceMagics",
        "pushd": "OSMagics",
        "pwd": "OSMagics",
        "pycat": "OSMagics",
        "pylab": "PylabMagics",
        "qtconsole": "KernelMagics",
        "quickref": "BasicMagics",
        "recall": "HistoryMagics",
        "rehashx": "OSMagics",
        "reload_ext": "ExtensionMagics",
        "ren": "Other",
        "rep": "Other",
        "rerun": "HistoryMagics",
        "reset": "NamespaceMagics",
        "reset_selective": "NamespaceMagics",
        "rmdir": "Other",
        "run": "ExecutionMagics",
        "save": "CodeMagics",
        "sc": "OSMagics",
        "set_env": "OSMagics",
        "store": "StoreMagics",
        "sx": "OSMagics",
        "system": "OSMagics",
        "tb": "ExecutionMagics",
        "time": "ExecutionMagics",
        "timeit": "ExecutionMagics",
        "unalias": "OSMagics",
        "unload_ext": "ExtensionMagics",
        "who": "NamespaceMagics",
        "who_ls": "NamespaceMagics",
        "whos": "NamespaceMagics",
        "xdel": "NamespaceMagics",
        "xmode": "BasicMagics"
       }
      },
      "text/plain": [
       "Available line magics:\n",
       "%alias  %alias_magic  %autoawait  %autocall  %automagic  %autosave  %bookmark  %cd  %clear  %cls  %colors  %conda  %config  %connect_info  %copy  %ddir  %debug  %dhist  %dirs  %doctest_mode  %echo  %ed  %edit  %env  %gui  %hist  %history  %killbgscripts  %ldir  %less  %load  %load_ext  %loadpy  %logoff  %logon  %logstart  %logstate  %logstop  %ls  %lsmagic  %macro  %magic  %matplotlib  %mkdir  %more  %notebook  %page  %pastebin  %pdb  %pdef  %pdoc  %pfile  %pinfo  %pinfo2  %pip  %popd  %pprint  %precision  %prun  %psearch  %psource  %pushd  %pwd  %pycat  %pylab  %qtconsole  %quickref  %recall  %rehashx  %reload_ext  %ren  %rep  %rerun  %reset  %reset_selective  %rmdir  %run  %save  %sc  %set_env  %store  %sx  %system  %tb  %time  %timeit  %unalias  %unload_ext  %who  %who_ls  %whos  %xdel  %xmode\n",
       "\n",
       "Available cell magics:\n",
       "%%!  %%HTML  %%SVG  %%bash  %%capture  %%cmd  %%debug  %%file  %%html  %%javascript  %%js  %%latex  %%markdown  %%perl  %%prun  %%pypy  %%python  %%python2  %%python3  %%ruby  %%script  %%sh  %%svg  %%sx  %%system  %%time  %%timeit  %%writefile\n",
       "\n",
       "Automagic is ON, % prefix IS NOT needed for line magics."
      ]
     },
     "execution_count": 17,
     "metadata": {},
     "output_type": "execute_result"
    }
   ],
   "source": [
    "%lsmagic"
   ]
  },
  {
   "cell_type": "code",
   "execution_count": 20,
   "id": "8ad0de33-fac7-4046-b068-c4042ffd12b3",
   "metadata": {
    "collapsed": true,
    "jupyter": {
     "outputs_hidden": true
    },
    "tags": []
   },
   "outputs": [
    {
     "name": "stdout",
     "output_type": "stream",
     "text": [
      "from IPython.display import Image\n",
      "Image(url =\"http://www.srikanthtechnologies.com/logo.jpg\")\n",
      "from IPython.display import Image\n",
      "Image(url =\"http://www.srikanthtechnologies.com/logo.jpg\")\n",
      "from IPython.display import Image\n",
      "Image(url =\"http://www.srikanthtechnologies.com/banner.jpg\")\n",
      "!cd\n",
      "!dir\n",
      "!type libraries.txt\n",
      "!type libraries.txt\n",
      "libs = !type libraries.txt\n",
      "libs\n",
      "files = ['libraries.txt', 'upload.bat']\n",
      "for f in files:\n",
      "    print(f)\n",
      "    print(\"-\" * 10)\n",
      "    !type {f}\n",
      "    print()\n",
      "%pwd\n",
      "%who\n",
      "#%env\n",
      "%env\n",
      "variables = %env\n",
      "variables = %env\n",
      "variables['USERNAME']\n",
      "%system dir\n",
      "%system dir    # Execute OS command\n",
      "%lsmagic\n",
      "%history\n"
     ]
    }
   ],
   "source": [
    "%history"
   ]
  },
  {
   "cell_type": "markdown",
   "id": "8e8d75f5-5c3a-4214-9472-cebc996bffd5",
   "metadata": {},
   "source": [
    "### Cell Magic Function"
   ]
  },
  {
   "cell_type": "code",
   "execution_count": 18,
   "id": "5bae892a-bca1-461c-bea4-182e996eddbe",
   "metadata": {
    "tags": []
   },
   "outputs": [
    {
     "name": "stdout",
     "output_type": "stream",
     "text": [
      "Writing names.txt\n"
     ]
    }
   ],
   "source": [
    "%%writefile names.txt\n",
    "Anders\n",
    "James\n",
    "Larry\n",
    "Rossum"
   ]
  },
  {
   "cell_type": "code",
   "execution_count": 19,
   "id": "d2b318b7-192c-42ef-8abb-8dfc1dfbf362",
   "metadata": {
    "tags": []
   },
   "outputs": [],
   "source": [
    "%%capture numbers\n",
    "for i in range(10,20):\n",
    "    print(i)"
   ]
  },
  {
   "cell_type": "code",
   "execution_count": 20,
   "id": "75053912-0fdc-4313-998b-0707bc33304b",
   "metadata": {
    "tags": []
   },
   "outputs": [
    {
     "data": {
      "text/plain": [
       "IPython.utils.capture.CapturedIO"
      ]
     },
     "execution_count": 20,
     "metadata": {},
     "output_type": "execute_result"
    }
   ],
   "source": [
    "type(numbers)"
   ]
  },
  {
   "cell_type": "code",
   "execution_count": 21,
   "id": "a49b0b8c-a648-4af4-97a2-a9032bf60dcf",
   "metadata": {
    "tags": []
   },
   "outputs": [
    {
     "name": "stdout",
     "output_type": "stream",
     "text": [
      "10\n",
      "11\n",
      "12\n",
      "13\n",
      "14\n",
      "15\n",
      "16\n",
      "17\n",
      "18\n",
      "19\n",
      "\n"
     ]
    }
   ],
   "source": [
    "print(numbers.stdout)"
   ]
  },
  {
   "cell_type": "code",
   "execution_count": 22,
   "id": "f0dfc8fc-c802-4ce1-aeee-f21eefcb0a93",
   "metadata": {},
   "outputs": [
    {
     "data": {
      "application/javascript": [
       "alert(\"Hello\")\n"
      ],
      "text/plain": [
       "<IPython.core.display.Javascript object>"
      ]
     },
     "metadata": {},
     "output_type": "display_data"
    }
   ],
   "source": [
    "%%js\n",
    "alert(\"Hello\")"
   ]
  },
  {
   "cell_type": "code",
   "execution_count": 23,
   "id": "3cc4dde9-10d3-4591-b95b-52bd69b4cc9a",
   "metadata": {},
   "outputs": [
    {
     "data": {
      "text/html": [
       "<h1>This is HTML </h1>\n"
      ],
      "text/plain": [
       "<IPython.core.display.HTML object>"
      ]
     },
     "metadata": {},
     "output_type": "display_data"
    }
   ],
   "source": [
    "%%html\n",
    "<h1>This is HTML </h1>"
   ]
  },
  {
   "cell_type": "markdown",
   "id": "841cfac7-e667-4528-bd00-656ef28b157d",
   "metadata": {
    "tags": []
   },
   "source": [
    "### List Comprehension vs. List with append() using timeit"
   ]
  },
  {
   "cell_type": "code",
   "execution_count": 28,
   "id": "3d1d6128-a260-4a29-a99d-1e130a2c0dd4",
   "metadata": {
    "tags": []
   },
   "outputs": [
    {
     "name": "stdout",
     "output_type": "stream",
     "text": [
      "15.9 ms ± 4.92 ms per loop (mean ± std. dev. of 10 runs, 10 loops each)\n"
     ]
    }
   ],
   "source": [
    "%%timeit -n 10 -r 10\n",
    "lst = [n*n for n in range(1,100000)]"
   ]
  },
  {
   "cell_type": "code",
   "execution_count": 29,
   "id": "d73ff565-8881-4f12-a89c-37847577206c",
   "metadata": {
    "tags": []
   },
   "outputs": [
    {
     "name": "stdout",
     "output_type": "stream",
     "text": [
      "22.2 ms ± 3.46 ms per loop (mean ± std. dev. of 10 runs, 10 loops each)\n"
     ]
    }
   ],
   "source": [
    "%%timeit -n 10 -r 10\n",
    "lst = []\n",
    "for i in range(1,100000):\n",
    " lst.append(i*i)"
   ]
  },
  {
   "cell_type": "code",
   "execution_count": null,
   "id": "ece514f1-3cc9-4d62-8c7b-00b057fdb22b",
   "metadata": {},
   "outputs": [],
   "source": []
  }
 ],
 "metadata": {
  "kernelspec": {
   "display_name": "Python 3 (ipykernel)",
   "language": "python",
   "name": "python3"
  },
  "language_info": {
   "codemirror_mode": {
    "name": "ipython",
    "version": 3
   },
   "file_extension": ".py",
   "mimetype": "text/x-python",
   "name": "python",
   "nbconvert_exporter": "python",
   "pygments_lexer": "ipython3",
   "version": "3.9.12"
  }
 },
 "nbformat": 4,
 "nbformat_minor": 5
}
